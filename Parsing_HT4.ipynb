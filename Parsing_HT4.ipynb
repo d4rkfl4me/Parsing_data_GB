{
  "nbformat": 4,
  "nbformat_minor": 0,
  "metadata": {
    "colab": {
      "provenance": []
    },
    "kernelspec": {
      "name": "python3",
      "display_name": "Python 3"
    },
    "language_info": {
      "name": "python"
    }
  },
  "cells": [
    {
      "cell_type": "code",
      "execution_count": 1,
      "metadata": {
        "id": "ppkTdPuPYEjm"
      },
      "outputs": [],
      "source": [
        "from pprint import pprint\n",
        "from bs4 import BeautifulSoup as bs\n",
        "import requests\n",
        "from time import sleep"
      ]
    },
    {
      "cell_type": "code",
      "source": [
        "USER_AGENT = 'Mozilla/5.0 (Windows NT 10.0; Win64; x64) AppleWebKit/537.36 (KHTML, like Gecko) Chrome/104.0.0.0 Safari/537.36'\n",
        "\n",
        "URL_FIRST_PAGE_HH = 'https://almaty.hh.kz/search/vacancy?text=python&area=160'"
      ],
      "metadata": {
        "id": "5NztjK11YL-d"
      },
      "execution_count": 2,
      "outputs": []
    },
    {
      "cell_type": "code",
      "source": [
        "headers = {\n",
        "    'User-Agent': USER_AGENT,\n",
        "}"
      ],
      "metadata": {
        "id": "EvEVUMrLYQ5W"
      },
      "execution_count": 3,
      "outputs": []
    },
    {
      "cell_type": "code",
      "source": [
        "def parse_hh(url_page, headers, result=[], index_page=1):\n",
        "    response = requests.get(url_page, headers=headers)\n",
        "    if response.status_code != 200:\n",
        "      print('Парсинг завершен')\n",
        "      return result\n",
        "    else:\n",
        "      print('Cтраница №%d, ссылка: %s'%(index_page, response.url))\n",
        "\n",
        "    dom = bs(response.content, 'html.parser')\n",
        "    vacancies = dom.find_all('div', {'class': 'vacancy-serp-item__layout'})\n",
        "    for vacancy in vacancies:\n",
        "      result.append(parse_vacancy_hh(vacancy))\n",
        "\n",
        "    link_next_page = dom.find('a', {'data-qa': 'pager-next'})\n",
        "    if link_next_page:\n",
        "      link_next_page =  'https://almaty.hh.kz' + link_next_page['href']\n",
        "    else:\n",
        "      print('Парсинг завершен')\n",
        "      return result\n",
        "\n",
        "    result = parse_hh(link_next_page, headers, result, index_page+1)   \n",
        "    return result\n",
        "     \n",
        "def parse_vacancy_hh(dom_vacancy):\n",
        "  sleep(0.1)\n",
        "  vacancy_name = dom_vacancy.find('a').text\n",
        "\n",
        "  vacancy_salary = dom_vacancy.find('span', {'class', 'bloko-header-section-3'})\n",
        "  if vacancy_salary:\n",
        "    vacancy_salary = vacancy_salary.text\n",
        "    min_salary, max_salary, currency_salary = clean_salary(vacancy_salary)\n",
        "  else:\n",
        "    min_salary, max_salary, currency_salary = None, None, None\n",
        "\n",
        "  vacancy_link = dom_vacancy.find('a')['href']\n",
        "  \n",
        "  return {\n",
        "      'vacancy_name': vacancy_name,\n",
        "      'vacancy_salary': vacancy_salary,\n",
        "      'min_salary': min_salary,\n",
        "      'max_salary': max_salary,\n",
        "      'currency_salary': currency_salary,\n",
        "      'vacancy_link': vacancy_link,\n",
        "      'vacancy_source': 'almaty.hh.kz',\n",
        "  }\n",
        "\n",
        "def clean_salary(vacancy_salary_text, min_salary=None, max_salary=None, currency_salary=None):\n",
        "  list_salary = vacancy_salary_text.replace('\\u202f', '').split()\n",
        "  for i in range(len(list_salary) - 1):\n",
        "    if list_salary[i] == 'от':\n",
        "      min_salary = int(list_salary[i + 1])\n",
        "    elif list_salary[i] == 'до':\n",
        "      max_salary = int(list_salary[i + 1])\n",
        "    elif list_salary[i] == '–':\n",
        "      min_salary = int(list_salary[i - 1])\n",
        "      max_salary = int(list_salary[i + 1])\n",
        "  currency_salary = list_salary[-1]\n",
        "\n",
        "  return min_salary, max_salary, currency_salary"
      ],
      "metadata": {
        "id": "PfPcg6P1YUqz"
      },
      "execution_count": 4,
      "outputs": []
    },
    {
      "cell_type": "code",
      "source": [
        "result = parse_hh(URL_FIRST_PAGE_HH, headers)"
      ],
      "metadata": {
        "colab": {
          "base_uri": "https://localhost:8080/"
        },
        "id": "vrXIj4YTYdGJ",
        "outputId": "7273cede-95f4-4f80-faf6-c996aa0584f8"
      },
      "execution_count": 5,
      "outputs": [
        {
          "output_type": "stream",
          "name": "stdout",
          "text": [
            "Cтраница №1, ссылка: https://almaty.hh.kz/search/vacancy?text=python&area=160\n",
            "Cтраница №2, ссылка: https://almaty.hh.kz/search/vacancy?text=python&area=160&page=1&hhtmFrom=vacancy_search_list\n",
            "Cтраница №3, ссылка: https://almaty.hh.kz/search/vacancy?text=python&area=160&page=2&hhtmFrom=vacancy_search_list\n",
            "Cтраница №4, ссылка: https://almaty.hh.kz/search/vacancy?text=python&area=160&page=3&hhtmFrom=vacancy_search_list\n",
            "Парсинг завершен\n"
          ]
        }
      ]
    },
    {
      "cell_type": "code",
      "source": [
        "len(result)"
      ],
      "metadata": {
        "colab": {
          "base_uri": "https://localhost:8080/"
        },
        "id": "oD6I1C5jYgFC",
        "outputId": "6a46bb0c-2fb8-4d90-ebd2-ae79bb0304d4"
      },
      "execution_count": 6,
      "outputs": [
        {
          "output_type": "execute_result",
          "data": {
            "text/plain": [
              "80"
            ]
          },
          "metadata": {},
          "execution_count": 6
        }
      ]
    },
    {
      "cell_type": "code",
      "source": [
        "!apt install mongodb > log"
      ],
      "metadata": {
        "colab": {
          "base_uri": "https://localhost:8080/"
        },
        "id": "efiuKS95Yq0A",
        "outputId": "b600406a-1650-4102-f40f-eb28060ae775"
      },
      "execution_count": 7,
      "outputs": [
        {
          "output_type": "stream",
          "name": "stdout",
          "text": [
            "\n",
            "WARNING: apt does not have a stable CLI interface. Use with caution in scripts.\n",
            "\n"
          ]
        }
      ]
    },
    {
      "cell_type": "code",
      "source": [
        "!service mongodb start"
      ],
      "metadata": {
        "colab": {
          "base_uri": "https://localhost:8080/"
        },
        "id": "mRfyR_xRY0Gi",
        "outputId": "62fee90b-0040-4d88-e52d-c6c4749f572a"
      },
      "execution_count": 8,
      "outputs": [
        {
          "output_type": "stream",
          "name": "stdout",
          "text": [
            " * Starting database mongodb\n",
            "   ...done.\n"
          ]
        }
      ]
    },
    {
      "cell_type": "code",
      "source": [
        "!pip install pymongo"
      ],
      "metadata": {
        "colab": {
          "base_uri": "https://localhost:8080/"
        },
        "id": "DVsKkaZPY4Es",
        "outputId": "5aeae0d5-fa14-4927-92c7-912d69c71f22"
      },
      "execution_count": 9,
      "outputs": [
        {
          "output_type": "stream",
          "name": "stdout",
          "text": [
            "Looking in indexes: https://pypi.org/simple, https://us-python.pkg.dev/colab-wheels/public/simple/\n",
            "Requirement already satisfied: pymongo in /usr/local/lib/python3.8/dist-packages (4.3.3)\n",
            "Requirement already satisfied: dnspython<3.0.0,>=1.16.0 in /usr/local/lib/python3.8/dist-packages (from pymongo) (2.2.1)\n"
          ]
        }
      ]
    },
    {
      "cell_type": "code",
      "source": [
        "from pymongo import MongoClient"
      ],
      "metadata": {
        "id": "o9hiC7g-Y9ib"
      },
      "execution_count": 10,
      "outputs": []
    },
    {
      "cell_type": "code",
      "source": [
        "client = MongoClient()"
      ],
      "metadata": {
        "id": "cnQMEhdQZB2_"
      },
      "execution_count": 11,
      "outputs": []
    },
    {
      "cell_type": "code",
      "source": [
        "db = client.vacancies_python_hh"
      ],
      "metadata": {
        "id": "G6teuS14ZE6T"
      },
      "execution_count": 12,
      "outputs": []
    },
    {
      "cell_type": "code",
      "source": [
        "collection_vacancies_hh_kz = db.hh_kz"
      ],
      "metadata": {
        "id": "9gZxyneiZH3n"
      },
      "execution_count": 13,
      "outputs": []
    },
    {
      "cell_type": "code",
      "source": [
        "def check_and_save_vacancies_in_db(vacancies):\n",
        "  for vacancy in vacancies:\n",
        "    if not len(list(collection_vacancies_hh_kz.find({'vacancy_link': vacancy['vacancy_link']}))):\n",
        "      collection_vacancies_hh_kz.insert_one(vacancy)"
      ],
      "metadata": {
        "id": "-HYqf37HZK07"
      },
      "execution_count": 14,
      "outputs": []
    },
    {
      "cell_type": "code",
      "source": [
        "check_and_save_vacancies_in_db(result)"
      ],
      "metadata": {
        "id": "wwQgDHJkZOGV"
      },
      "execution_count": 15,
      "outputs": []
    },
    {
      "cell_type": "code",
      "source": [
        "result_find = list(collection_vacancies_hh_kz.find())"
      ],
      "metadata": {
        "id": "kQXlVXRGZWBW"
      },
      "execution_count": 16,
      "outputs": []
    },
    {
      "cell_type": "code",
      "source": [
        "len(result_find)"
      ],
      "metadata": {
        "colab": {
          "base_uri": "https://localhost:8080/"
        },
        "id": "LRgXPFCsZZe8",
        "outputId": "2436f178-35a0-43d9-8c76-ee27b20398ca"
      },
      "execution_count": 17,
      "outputs": [
        {
          "output_type": "execute_result",
          "data": {
            "text/plain": [
              "80"
            ]
          },
          "metadata": {},
          "execution_count": 17
        }
      ]
    }
  ]
}